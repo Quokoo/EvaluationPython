{
  "nbformat": 4,
  "nbformat_minor": 0,
  "metadata": {
    "colab": {
      "name": "ProjetPythonVendredi10/07.ipynb",
      "provenance": [],
      "collapsed_sections": []
    },
    "kernelspec": {
      "name": "python3",
      "display_name": "Python 3"
    }
  },
  "cells": [
    {
      "cell_type": "markdown",
      "metadata": {
        "id": "_07KgYNtOa2g",
        "colab_type": "text"
      },
      "source": [
        "Import des bibliothèques"
      ]
    },
    {
      "cell_type": "code",
      "metadata": {
        "id": "gp7QCQXzog1Q",
        "colab_type": "code",
        "colab": {
          "base_uri": "https://localhost:8080/",
          "height": 68
        },
        "outputId": "bf6f9dd0-a170-4ede-aed8-e0e597fc92c1"
      },
      "source": [
        "#https://ledatascientist.com/\n",
        "import pandas as pd\n",
        "import numpy as np\n",
        "import seaborn as sns\n",
        "import matplotlib.pyplot as plt\n",
        "print(\"Importé\")"
      ],
      "execution_count": 3,
      "outputs": [
        {
          "output_type": "stream",
          "text": [
            "Importé\n"
          ],
          "name": "stdout"
        },
        {
          "output_type": "stream",
          "text": [
            "/usr/local/lib/python3.6/dist-packages/statsmodels/tools/_testing.py:19: FutureWarning: pandas.util.testing is deprecated. Use the functions in the public API at pandas.testing instead.\n",
            "  import pandas.util.testing as tm\n"
          ],
          "name": "stderr"
        }
      ]
    },
    {
      "cell_type": "markdown",
      "metadata": {
        "id": "8UMATv1ZOmLn",
        "colab_type": "text"
      },
      "source": [
        "Connexion avec le Google Drive"
      ]
    },
    {
      "cell_type": "code",
      "metadata": {
        "id": "B0Bl2677omlY",
        "colab_type": "code",
        "colab": {
          "base_uri": "https://localhost:8080/",
          "height": 122
        },
        "outputId": "c98b833e-77f6-492f-b9a3-b890fce5c33c"
      },
      "source": [
        "from google.colab import drive\n",
        "drive.mount('/content/gdrive')"
      ],
      "execution_count": 5,
      "outputs": [
        {
          "output_type": "stream",
          "text": [
            "Go to this URL in a browser: https://accounts.google.com/o/oauth2/auth?client_id=947318989803-6bn6qk8qdgf4n4g3pfee6491hc0brc4i.apps.googleusercontent.com&redirect_uri=urn%3aietf%3awg%3aoauth%3a2.0%3aoob&response_type=code&scope=email%20https%3a%2f%2fwww.googleapis.com%2fauth%2fdocs.test%20https%3a%2f%2fwww.googleapis.com%2fauth%2fdrive%20https%3a%2f%2fwww.googleapis.com%2fauth%2fdrive.photos.readonly%20https%3a%2f%2fwww.googleapis.com%2fauth%2fpeopleapi.readonly\n",
            "\n",
            "Enter your authorization code:\n",
            "··········\n",
            "Mounted at /content/gdrive\n"
          ],
          "name": "stdout"
        }
      ]
    },
    {
      "cell_type": "markdown",
      "metadata": {
        "id": "CPwMBWiKOqKO",
        "colab_type": "text"
      },
      "source": [
        "Intégration du fichier voulu dans \"df\""
      ]
    },
    {
      "cell_type": "code",
      "metadata": {
        "id": "BAhKKabOopw1",
        "colab_type": "code",
        "colab": {
          "base_uri": "https://localhost:8080/",
          "height": 34
        },
        "outputId": "4c2e0823-0112-4b11-a4bd-b05c8040e843"
      },
      "source": [
        "df=pd.read_csv('/content/gdrive/My Drive/Python/Data/datasets_723010_1257097_fatal-police-shootings-data.csv')\n",
        "#df_filtre = df [ df [\"armed\"] != \"knife\"]\n",
        "#df_filtre = df_filtre [ df_filtre [\"armed\"] != \"gun\"]\n",
        "nombre_WA = np.sum(df.state==\"RI\")\n",
        "nombre_WA"
      ],
      "execution_count": 175,
      "outputs": [
        {
          "output_type": "execute_result",
          "data": {
            "text/plain": [
              "4"
            ]
          },
          "metadata": {
            "tags": []
          },
          "execution_count": 175
        }
      ]
    },
    {
      "cell_type": "markdown",
      "metadata": {
        "id": "6qJeqlUmOyWJ",
        "colab_type": "text"
      },
      "source": [
        "Analyse du DATASET :\n",
        "\n",
        "Concernant les types de données, on a des \"objet\" en majorité, une variable \"bool\" et un float.\n",
        "Ce DATASET dispose de colonnes indiquant des noms, des manières de mourrir, quel arme cette personne avait, son sexe, la ville etc ...\n",
        "On en déduit très simplement, en regardant en plus le nom du fichier, que ce fichier répertorie les informations des personnes décédées lors d'intervention de police.\n",
        "\n",
        "Il y a 14 colonnes différentes ce qui nous laisse beaucoup de choix et d'idées à exploiter.\n",
        "\n",
        "Le premier graphique auquel on peut penser, c'est évidemment la quantité de mort en fonction de l'origine ethnique de la victime et de son sexe.\n",
        "D'autres graphiques viennent ensuite en tête : \n",
        "*   Tendance du nombre de morts en fonction des états\n",
        "*   Tendance de l'age des morts\n",
        "*   Nombre de morts par période"
      ]
    },
    {
      "cell_type": "markdown",
      "metadata": {
        "id": "sV9SRU8bgmey",
        "colab_type": "text"
      },
      "source": [
        "Graphiques :"
      ]
    },
    {
      "cell_type": "code",
      "metadata": {
        "id": "qZDbI1KppDwW",
        "colab_type": "code",
        "colab": {
          "base_uri": "https://localhost:8080/",
          "height": 296
        },
        "outputId": "96a819b8-23e8-4e20-bec0-fbd10ab9b3b5"
      },
      "source": [
        "x= df.age\n",
        "sns.distplot(x)"
      ],
      "execution_count": 7,
      "outputs": [
        {
          "output_type": "execute_result",
          "data": {
            "text/plain": [
              "<matplotlib.axes._subplots.AxesSubplot at 0x7f0c0b470908>"
            ]
          },
          "metadata": {
            "tags": []
          },
          "execution_count": 7
        },
        {
          "output_type": "display_data",
          "data": {
            "image/png": "[encoded data removed]",
            "text/plain": [
              "<Figure size 432x288 with 1 Axes>"
            ]
          },
          "metadata": {
            "tags": [],
            "needs_background": "light"
          }
        }
      ]
    },
    {
      "cell_type": "markdown",
      "metadata": {
        "id": "Y3S6EKsRjuyZ",
        "colab_type": "text"
      },
      "source": [
        "Ce graphique met en évidence la tendance de l'age  des personnes mourant lors des interventions de police : ~~30 ans"
      ]
    },
    {
      "cell_type": "code",
      "metadata": {
        "id": "gcngpvLbhbo_",
        "colab_type": "code",
        "colab": {
          "base_uri": "https://localhost:8080/",
          "height": 248
        },
        "outputId": "93dce4c4-4702-4679-e944-8da092dfca0e"
      },
      "source": [
        "armed_gun = np.sum(df.armed==\"gun\")\n",
        "armed_knife = np.sum(df.armed==\"knife\")\n",
        "armed_unarmed = np.sum(df.armed==\"unarmed\")\n",
        "armed_others = sum(1 for _ in df.armed)\n",
        "armed_others = armed_others - armed_knife - armed_gun - armed_unarmed\n",
        "\n",
        "sizes = [armed_others, armed_gun, armed_knife, armed_unarmed]\n",
        "labels = 'Others', 'Gun', 'Knife', 'Unarmed'\n",
        "x = plt.pie(sizes, labels=labels, autopct='%1.1f%%', shadow=True, startangle=90)"
      ],
      "execution_count": 64,
      "outputs": [
        {
          "output_type": "display_data",
          "data": {
            "image/png": "[encoded data removed]",
            "text/plain": [
              "<Figure size 432x288 with 1 Axes>"
            ]
          },
          "metadata": {
            "tags": []
          }
        }
      ]
    },
    {
      "cell_type": "markdown",
      "metadata": {
        "id": "1Yc1KizUtnkC",
        "colab_type": "text"
      },
      "source": [
        "Ce diagramme circulaire met en évidence les armes qui ont été utilisées par la victime de l'intervention"
      ]
    },
    {
      "cell_type": "code",
      "metadata": {
        "id": "GH-_J0GjkZYq",
        "colab_type": "code",
        "colab": {
          "base_uri": "https://localhost:8080/",
          "height": 361
        },
        "outputId": "aac39b14-3876-46ab-b094-dfe6e6df8b62"
      },
      "source": [
        "\"\"\"\n",
        "#plt.scatter(df.date, df.date)\n",
        "#x= df.date.count(df.date)\n",
        "#sns.distplot(x)\n",
        "pd.to_datetime(df.date)\n",
        "df.groupby(df.date)\n",
        "\"\"\"\n",
        "\"\"\"\n",
        "df[\"date\"] = df[\"date\"].astype(\"datetime64\")\n",
        "df2 = df.date\n",
        "df.date.groupby(df[\"date\"]).count().plot(kind=\"bar\")\n",
        "\"\"\"\n",
        "fig, ax = plt.subplots()\n",
        "df[\"date\"].astype(np.int64).plot.hist(ax=ax)\n",
        "labels = ax.get_xticks().tolist()\n",
        "labels = pd.to_datetime(labels)\n",
        "ax.set_xticklabels(labels, rotation=90)\n",
        "plt.show()"
      ],
      "execution_count": 130,
      "outputs": [
        {
          "output_type": "display_data",
          "data": {
            "image/png": "[encoded data removed]",
            "text/plain": [
              "<Figure size 432x288 with 1 Axes>"
            ]
          },
          "metadata": {
            "tags": [],
            "needs_background": "light"
          }
        }
      ]
    },
    {
      "cell_type": "markdown",
      "metadata": {
        "id": "URvab8EAGAqn",
        "colab_type": "text"
      },
      "source": [
        "Diagramme visant à obtenir un aperçu sur les periodes avec le plus de morts (pas encore finis)."
      ]
    },
    {
      "cell_type": "code",
      "metadata": {
        "id": "f4WSa3DFuEsO",
        "colab_type": "code",
        "colab": {
          "base_uri": "https://localhost:8080/",
          "height": 320
        },
        "outputId": "6c509c9a-3685-44d0-e635-a5714d6c2fe3"
      },
      "source": [
        "plt.figure(1, figsize=(20, 5))\n",
        "x = plt.hist(df.state,edgecolor = 'red', bins=51)\n"
      ],
      "execution_count": 174,
      "outputs": [
        {
          "output_type": "display_data",
          "data": {
            "image/png": "[encoded data removed]",
            "text/plain": [
              "<Figure size 1440x360 with 1 Axes>"
            ]
          },
          "metadata": {
            "tags": [],
            "needs_background": "light"
          }
        }
      ]
    },
    {
      "cell_type": "markdown",
      "metadata": {
        "id": "TWR50GsfE3CY",
        "colab_type": "text"
      },
      "source": [
        "Ce grahique met en évidence le nombre de mort en fonction des états. On peut ainsi voir que certains états ont un nombre de mort par intervention de police extremement élevé !"
      ]
    },
    {
      "cell_type": "code",
      "metadata": {
        "id": "075nHRa5C1HI",
        "colab_type": "code",
        "colab": {
          "base_uri": "https://localhost:8080/",
          "height": 419
        },
        "outputId": "0677e489-ef85-4f7b-a447-77a562d40b99"
      },
      "source": [
        "race_W = np.sum(df.race==\"W\")\n",
        "race_B = np.sum(df.race==\"B\")\n",
        "race_H = np.sum(df.race==\"H\")\n",
        "race_A = np.sum(df.race==\"A\")\n",
        "race_N = np.sum(df.race==\"N\")\n",
        "race_O = np.sum(df.race==\"O\")\n",
        "\n",
        "df_CA = df [ df[\"state\"] == \"CA\"]\n",
        "df_CA"
      ],
      "execution_count": 179,
      "outputs": [
        {
          "output_type": "execute_result",
          "data": {
            "text/html": [
              "<div>\n",
              "<style scoped>\n",
              "    .dataframe tbody tr th:only-of-type {\n",
              "        vertical-align: middle;\n",
              "    }\n",
              "\n",
              "    .dataframe tbody tr th {\n",
              "        vertical-align: top;\n",
              "    }\n",
              "\n",
              "    .dataframe thead th {\n",
              "        text-align: right;\n",
              "    }\n",
              "</style>\n",
              "<table border=\"1\" class=\"dataframe\">\n",
              "  <thead>\n",
              "    <tr style=\"text-align: right;\">\n",
              "      <th></th>\n",
              "      <th>id</th>\n",
              "      <th>name</th>\n",
              "      <th>date</th>\n",
              "      <th>manner_of_death</th>\n",
              "      <th>armed</th>\n",
              "      <th>age</th>\n",
              "      <th>gender</th>\n",
              "      <th>race</th>\n",
              "      <th>city</th>\n",
              "      <th>state</th>\n",
              "      <th>signs_of_mental_illness</th>\n",
              "      <th>threat_level</th>\n",
              "      <th>flee</th>\n",
              "      <th>body_camera</th>\n",
              "    </tr>\n",
              "  </thead>\n",
              "  <tbody>\n",
              "    <tr>\n",
              "      <th>3</th>\n",
              "      <td>8</td>\n",
              "      <td>Matthew Hoffman</td>\n",
              "      <td>2015-01-04</td>\n",
              "      <td>shot</td>\n",
              "      <td>toy weapon</td>\n",
              "      <td>32.0</td>\n",
              "      <td>M</td>\n",
              "      <td>W</td>\n",
              "      <td>San Francisco</td>\n",
              "      <td>CA</td>\n",
              "      <td>True</td>\n",
              "      <td>attack</td>\n",
              "      <td>Not fleeing</td>\n",
              "      <td>False</td>\n",
              "    </tr>\n",
              "    <tr>\n",
              "      <th>10</th>\n",
              "      <td>19</td>\n",
              "      <td>Patrick Wetter</td>\n",
              "      <td>2015-01-06</td>\n",
              "      <td>shot and Tasered</td>\n",
              "      <td>knife</td>\n",
              "      <td>25.0</td>\n",
              "      <td>M</td>\n",
              "      <td>W</td>\n",
              "      <td>Stockton</td>\n",
              "      <td>CA</td>\n",
              "      <td>False</td>\n",
              "      <td>attack</td>\n",
              "      <td>Not fleeing</td>\n",
              "      <td>False</td>\n",
              "    </tr>\n",
              "    <tr>\n",
              "      <th>22</th>\n",
              "      <td>43</td>\n",
              "      <td>Brian  Barbosa</td>\n",
              "      <td>2015-01-11</td>\n",
              "      <td>shot</td>\n",
              "      <td>gun</td>\n",
              "      <td>23.0</td>\n",
              "      <td>M</td>\n",
              "      <td>H</td>\n",
              "      <td>South Gate</td>\n",
              "      <td>CA</td>\n",
              "      <td>False</td>\n",
              "      <td>attack</td>\n",
              "      <td>Not fleeing</td>\n",
              "      <td>False</td>\n",
              "    </tr>\n",
              "    <tr>\n",
              "      <th>35</th>\n",
              "      <td>63</td>\n",
              "      <td>Jose Ceja</td>\n",
              "      <td>2015-01-15</td>\n",
              "      <td>shot</td>\n",
              "      <td>knife</td>\n",
              "      <td>36.0</td>\n",
              "      <td>M</td>\n",
              "      <td>H</td>\n",
              "      <td>Fairfield</td>\n",
              "      <td>CA</td>\n",
              "      <td>True</td>\n",
              "      <td>other</td>\n",
              "      <td>Not fleeing</td>\n",
              "      <td>False</td>\n",
              "    </tr>\n",
              "    <tr>\n",
              "      <th>38</th>\n",
              "      <td>68</td>\n",
              "      <td>Zaki Shinwary</td>\n",
              "      <td>2015-01-16</td>\n",
              "      <td>shot and Tasered</td>\n",
              "      <td>knife</td>\n",
              "      <td>48.0</td>\n",
              "      <td>M</td>\n",
              "      <td>O</td>\n",
              "      <td>Fremont</td>\n",
              "      <td>CA</td>\n",
              "      <td>False</td>\n",
              "      <td>other</td>\n",
              "      <td>Not fleeing</td>\n",
              "      <td>False</td>\n",
              "    </tr>\n",
              "    <tr>\n",
              "      <th>...</th>\n",
              "      <td>...</td>\n",
              "      <td>...</td>\n",
              "      <td>...</td>\n",
              "      <td>...</td>\n",
              "      <td>...</td>\n",
              "      <td>...</td>\n",
              "      <td>...</td>\n",
              "      <td>...</td>\n",
              "      <td>...</td>\n",
              "      <td>...</td>\n",
              "      <td>...</td>\n",
              "      <td>...</td>\n",
              "      <td>...</td>\n",
              "      <td>...</td>\n",
              "    </tr>\n",
              "    <tr>\n",
              "      <th>5397</th>\n",
              "      <td>5900</td>\n",
              "      <td>Erik Salgado</td>\n",
              "      <td>2020-06-06</td>\n",
              "      <td>shot</td>\n",
              "      <td>undetermined</td>\n",
              "      <td>22.0</td>\n",
              "      <td>M</td>\n",
              "      <td>H</td>\n",
              "      <td>Oakland</td>\n",
              "      <td>CA</td>\n",
              "      <td>False</td>\n",
              "      <td>undetermined</td>\n",
              "      <td>Not fleeing</td>\n",
              "      <td>False</td>\n",
              "    </tr>\n",
              "    <tr>\n",
              "      <th>5400</th>\n",
              "      <td>5908</td>\n",
              "      <td>Jarrid Hurst</td>\n",
              "      <td>2020-06-07</td>\n",
              "      <td>shot</td>\n",
              "      <td>knife</td>\n",
              "      <td>35.0</td>\n",
              "      <td>M</td>\n",
              "      <td>W</td>\n",
              "      <td>Industry</td>\n",
              "      <td>CA</td>\n",
              "      <td>True</td>\n",
              "      <td>other</td>\n",
              "      <td>Not fleeing</td>\n",
              "      <td>False</td>\n",
              "    </tr>\n",
              "    <tr>\n",
              "      <th>5406</th>\n",
              "      <td>5914</td>\n",
              "      <td>Mason James Lira</td>\n",
              "      <td>2020-06-11</td>\n",
              "      <td>shot</td>\n",
              "      <td>gun</td>\n",
              "      <td>26.0</td>\n",
              "      <td>M</td>\n",
              "      <td>W</td>\n",
              "      <td>Paso Robles</td>\n",
              "      <td>CA</td>\n",
              "      <td>True</td>\n",
              "      <td>attack</td>\n",
              "      <td>Foot</td>\n",
              "      <td>False</td>\n",
              "    </tr>\n",
              "    <tr>\n",
              "      <th>5407</th>\n",
              "      <td>5915</td>\n",
              "      <td>Michael Thomas</td>\n",
              "      <td>2020-06-11</td>\n",
              "      <td>shot</td>\n",
              "      <td>undetermined</td>\n",
              "      <td>62.0</td>\n",
              "      <td>M</td>\n",
              "      <td>B</td>\n",
              "      <td>Lancaster</td>\n",
              "      <td>CA</td>\n",
              "      <td>False</td>\n",
              "      <td>undetermined</td>\n",
              "      <td>Not fleeing</td>\n",
              "      <td>False</td>\n",
              "    </tr>\n",
              "    <tr>\n",
              "      <th>5412</th>\n",
              "      <td>5922</td>\n",
              "      <td>TK TK</td>\n",
              "      <td>2020-06-13</td>\n",
              "      <td>shot</td>\n",
              "      <td>undetermined</td>\n",
              "      <td>NaN</td>\n",
              "      <td>M</td>\n",
              "      <td>NaN</td>\n",
              "      <td>San Bernardino</td>\n",
              "      <td>CA</td>\n",
              "      <td>False</td>\n",
              "      <td>attack</td>\n",
              "      <td>Not fleeing</td>\n",
              "      <td>False</td>\n",
              "    </tr>\n",
              "  </tbody>\n",
              "</table>\n",
              "<p>799 rows × 14 columns</p>\n",
              "</div>"
            ],
            "text/plain": [
              "        id              name  ...         flee body_camera\n",
              "3        8   Matthew Hoffman  ...  Not fleeing       False\n",
              "10      19    Patrick Wetter  ...  Not fleeing       False\n",
              "22      43    Brian  Barbosa  ...  Not fleeing       False\n",
              "35      63         Jose Ceja  ...  Not fleeing       False\n",
              "38      68     Zaki Shinwary  ...  Not fleeing       False\n",
              "...    ...               ...  ...          ...         ...\n",
              "5397  5900      Erik Salgado  ...  Not fleeing       False\n",
              "5400  5908      Jarrid Hurst  ...  Not fleeing       False\n",
              "5406  5914  Mason James Lira  ...         Foot       False\n",
              "5407  5915    Michael Thomas  ...  Not fleeing       False\n",
              "5412  5922             TK TK  ...  Not fleeing       False\n",
              "\n",
              "[799 rows x 14 columns]"
            ]
          },
          "metadata": {
            "tags": []
          },
          "execution_count": 179
        }
      ]
    },
    {
      "cell_type": "code",
      "metadata": {
        "id": "3YqLW0yZGrb8",
        "colab_type": "code",
        "colab": {}
      },
      "source": [
        ""
      ],
      "execution_count": null,
      "outputs": []
    }
  ]
}